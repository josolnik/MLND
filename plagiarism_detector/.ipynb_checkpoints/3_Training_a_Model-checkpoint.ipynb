{
 "cells": [
  {
   "cell_type": "markdown",
   "metadata": {},
   "source": [
    "# Plagiarism Detection Model\n",
    "\n",
    "Now that you've created training and test data, you are ready to define and train a model. Your goal in this notebook, will be to train a binary classification model that learns to label an answer file as either plagiarized or not, based on the features you provide the model.\n",
    "\n",
    "This task will be broken down into a few discrete steps:\n",
    "\n",
    "* Upload your data to S3.\n",
    "* Define a binary classification model and a training script.\n",
    "* Train your model and deploy it.\n",
    "* Evaluate your deployed classifier and answer some questions about your approach.\n",
    "\n",
    "To complete this notebook, you'll have to complete all given exercises and answer all the questions in this notebook.\n",
    "> All your tasks will be clearly labeled **EXERCISE** and questions as **QUESTION**.\n",
    "\n",
    "It will be up to you to explore different classification models and decide on a model that gives you the best performance for this dataset.\n",
    "\n",
    "---"
   ]
  },
  {
   "cell_type": "markdown",
   "metadata": {},
   "source": [
    "## Load Data to S3\n",
    "\n",
    "In the last notebook, you should have created two files: a `training.csv` and `test.csv` file with the features and class labels for the given corpus of plagiarized/non-plagiarized text data. \n",
    "\n",
    ">The below cells load in some AWS SageMaker libraries and creates a default bucket. After creating this bucket, you can upload your locally stored data to S3.\n",
    "\n",
    "Save your train and test `.csv` feature files, locally. To do this you can run the second notebook \"2_Plagiarism_Feature_Engineering\" in SageMaker or you can manually upload your files to this notebook using the upload icon in Jupyter Lab. Then you can upload local files to S3 by using `sagemaker_session.upload_data` and pointing directly to where the training data is saved."
   ]
  },
  {
   "cell_type": "code",
   "execution_count": 3,
   "metadata": {},
   "outputs": [],
   "source": [
    "import pandas as pd\n",
    "import boto3\n",
    "import sagemaker"
   ]
  },
  {
   "cell_type": "code",
   "execution_count": 4,
   "metadata": {},
   "outputs": [],
   "source": [
    "\"\"\"\n",
    "DON'T MODIFY ANYTHING IN THIS CELL THAT IS BELOW THIS LINE\n",
    "\"\"\"\n",
    "# session and role\n",
    "sagemaker_session = sagemaker.Session()\n",
    "role = sagemaker.get_execution_role()\n",
    "\n",
    "# create an S3 bucket\n",
    "bucket = sagemaker_session.default_bucket()"
   ]
  },
  {
   "cell_type": "markdown",
   "metadata": {},
   "source": [
    "## EXERCISE: Upload your training data to S3\n",
    "\n",
    "Specify the `data_dir` where you've saved your `train.csv` file. Decide on a descriptive `prefix` that defines where your data will be uploaded in the default S3 bucket. Finally, create a pointer to your training data by calling `sagemaker_session.upload_data` and passing in the required parameters. It may help to look at the [Session documentation](https://sagemaker.readthedocs.io/en/stable/session.html#sagemaker.session.Session.upload_data) or previous SageMaker code examples.\n",
    "\n",
    "You are expected to upload your entire directory. Later, the training script will only access the `train.csv` file."
   ]
  },
  {
   "cell_type": "code",
   "execution_count": 5,
   "metadata": {},
   "outputs": [
    {
     "name": "stdout",
     "output_type": "stream",
     "text": [
      "s3://sagemaker-eu-west-1-831842320841/plagiarism-dfs\n"
     ]
    }
   ],
   "source": [
    "# should be the name of directory you created to save your features data\n",
    "data_dir = 'plagiarism_data'\n",
    "\n",
    "# set prefix, a descriptive name for a directory  \n",
    "prefix = 'plagiarism-dfs'\n",
    "\n",
    "# upload all data to S3\n",
    "input_data = sagemaker_session.upload_data(path=data_dir, bucket=bucket, key_prefix=prefix)\n",
    "print(input_data)"
   ]
  },
  {
   "cell_type": "markdown",
   "metadata": {},
   "source": [
    "### Test cell\n",
    "\n",
    "Test that your data has been successfully uploaded. The below cell prints out the items in your S3 bucket and will throw an error if it is empty. You should see the contents of your `data_dir` and perhaps some checkpoints. If you see any other files listed, then you may have some old model files that you can delete via the S3 console (though, additional files shouldn't affect the performance of model developed in this notebook)."
   ]
  },
  {
   "cell_type": "code",
   "execution_count": 6,
   "metadata": {},
   "outputs": [
    {
     "name": "stdout",
     "output_type": "stream",
     "text": [
      "boston-xgboost-HL/output/xgboost-2020-01-24-13-44-26-753/output/model.tar.gz\n",
      "boston-xgboost-HL/test.csv\n",
      "boston-xgboost-HL/train.csv\n",
      "boston-xgboost-HL/validation.csv\n",
      "boston-xgboost-tuning-HL/output/xgboost-200131-1540-001-e056f6b1/output/model.tar.gz\n",
      "boston-xgboost-tuning-HL/output/xgboost-200131-1540-002-229010b0/output/model.tar.gz\n",
      "boston-xgboost-tuning-HL/output/xgboost-200131-1540-003-d7ac13b1/output/model.tar.gz\n",
      "boston-xgboost-tuning-HL/output/xgboost-200131-1540-004-640de4ee/output/model.tar.gz\n",
      "boston-xgboost-tuning-HL/output/xgboost-200131-1540-005-ae955d64/output/model.tar.gz\n",
      "boston-xgboost-tuning-HL/output/xgboost-200131-1540-006-91808058/output/model.tar.gz\n",
      "boston-xgboost-tuning-HL/output/xgboost-200131-1540-007-bf742c67/output/model.tar.gz\n",
      "boston-xgboost-tuning-HL/output/xgboost-200131-1540-008-9e9ee8b8/output/model.tar.gz\n",
      "boston-xgboost-tuning-HL/output/xgboost-200131-1540-009-e0a9dd51/output/model.tar.gz\n",
      "boston-xgboost-tuning-HL/output/xgboost-200131-1540-010-ddf8ad0f/output/model.tar.gz\n",
      "boston-xgboost-tuning-HL/output/xgboost-200131-1540-011-b05de4f6/output/model.tar.gz\n",
      "boston-xgboost-tuning-HL/output/xgboost-200131-1540-012-3dc2642d/output/model.tar.gz\n",
      "boston-xgboost-tuning-HL/output/xgboost-200131-1540-013-aba72c52/output/model.tar.gz\n",
      "boston-xgboost-tuning-HL/output/xgboost-200131-1540-014-67b7706a/output/model.tar.gz\n",
      "boston-xgboost-tuning-HL/output/xgboost-200131-1540-015-22b02e0e/output/model.tar.gz\n",
      "boston-xgboost-tuning-HL/output/xgboost-200131-1540-016-949ec4ba/output/model.tar.gz\n",
      "boston-xgboost-tuning-HL/output/xgboost-200131-1540-017-4d3a6a06/output/model.tar.gz\n",
      "boston-xgboost-tuning-HL/output/xgboost-200131-1540-018-0a7c5cbe/output/model.tar.gz\n",
      "boston-xgboost-tuning-HL/output/xgboost-200131-1540-019-65deffce/output/model.tar.gz\n",
      "boston-xgboost-tuning-HL/output/xgboost-200131-1540-020-a155766c/output/model.tar.gz\n",
      "boston-xgboost-tuning-HL/test.csv\n",
      "boston-xgboost-tuning-HL/train.csv\n",
      "boston-xgboost-tuning-HL/validation.csv\n",
      "counties/kmeans-2020-02-26-22-15-02-862/output/model.tar.gz\n",
      "counties/kmeans-2020-02-26-22-16-08-514/output/model.tar.gz\n",
      "counties/pca-2020-02-23-15-07-48-853/output/model.tar.gz\n",
      "counties/pca-2020-02-26-21-28-04-017/output/model.tar.gz\n",
      "creditcard/linear-learner-2020-02-26-22-58-40-124/output/model.tar.gz\n",
      "plagiarism-dfs/sagemaker-pytorch-2020-03-04-16-52-38-939/debug-output/training_job_end.ts\n",
      "plagiarism-dfs/sagemaker-pytorch-2020-03-04-16-56-23-622/debug-output/training_job_end.ts\n",
      "plagiarism-dfs/sagemaker-pytorch-2020-03-04-17-00-51-863/debug-output/training_job_end.ts\n",
      "plagiarism-dfs/sagemaker-pytorch-2020-03-04-17-04-37-428/debug-output/training_job_end.ts\n",
      "plagiarism-dfs/sagemaker-pytorch-2020-03-04-17-09-06-741/debug-output/training_job_end.ts\n",
      "plagiarism-dfs/sagemaker-pytorch-2020-03-05-17-39-09-090/debug-output/training_job_end.ts\n",
      "plagiarism-dfs/sagemaker-pytorch-2020-03-05-17-49-57-141/debug-output/training_job_end.ts\n",
      "plagiarism-dfs/sagemaker-pytorch-2020-03-05-17-58-43-201/debug-output/training_job_end.ts\n",
      "plagiarism-dfs/sagemaker-pytorch-2020-03-05-18-00-35-289/debug-output/training_job_end.ts\n",
      "plagiarism-dfs/sagemaker-pytorch-2020-03-05-18-00-35-289/output/model.tar.gz\n",
      "plagiarism-dfs/sagemaker-pytorch-2020-03-05-18-13-40-737/debug-output/training_job_end.ts\n",
      "plagiarism-dfs/sagemaker-pytorch-2020-03-05-18-13-40-737/output/model.tar.gz\n",
      "plagiarism-dfs/sagemaker-pytorch-2020-03-05-18-24-57-619/debug-output/training_job_end.ts\n",
      "plagiarism-dfs/sagemaker-pytorch-2020-03-05-18-24-57-619/output/model.tar.gz\n",
      "plagiarism-dfs/sagemaker-pytorch-2020-03-05-18-28-09-312/debug-output/training_job_end.ts\n",
      "plagiarism-dfs/sagemaker-pytorch-2020-03-05-18-28-09-312/output/model.tar.gz\n",
      "plagiarism-dfs/test.csv\n",
      "plagiarism-dfs/train.csv\n",
      "sagemaker-pytorch-2020-02-22-17-35-30-304/debug-output/training_job_end.ts\n",
      "sagemaker-pytorch-2020-02-22-17-35-30-304/output/model.tar.gz\n",
      "sagemaker-pytorch-2020-02-22-17-35-30-304/source/sourcedir.tar.gz\n",
      "sagemaker-pytorch-2020-02-23-09-13-01-595/debug-output/training_job_end.ts\n",
      "sagemaker-pytorch-2020-02-23-09-13-01-595/output/model.tar.gz\n",
      "sagemaker-pytorch-2020-02-23-09-13-01-595/source/sourcedir.tar.gz\n",
      "sagemaker-pytorch-2020-02-23-10-22-17-163/sourcedir.tar.gz\n",
      "sagemaker-pytorch-2020-02-24-20-28-32-042/debug-output/training_job_end.ts\n",
      "sagemaker-pytorch-2020-02-24-20-28-32-042/output/model.tar.gz\n",
      "sagemaker-pytorch-2020-02-24-20-28-32-042/source/sourcedir.tar.gz\n",
      "sagemaker-pytorch-2020-02-24-20-36-34-432/source/sourcedir.tar.gz\n",
      "sagemaker-pytorch-2020-02-24-20-37-56-700/source/sourcedir.tar.gz\n",
      "sagemaker-pytorch-2020-02-24-20-39-59-870/debug-output/training_job_end.ts\n",
      "sagemaker-pytorch-2020-02-24-20-39-59-870/output/model.tar.gz\n",
      "sagemaker-pytorch-2020-02-24-20-39-59-870/source/sourcedir.tar.gz\n",
      "sagemaker-pytorch-2020-02-24-20-50-49-887/debug-output/training_job_end.ts\n",
      "sagemaker-pytorch-2020-02-24-20-50-49-887/output/model.tar.gz\n",
      "sagemaker-pytorch-2020-02-24-20-50-49-887/source/sourcedir.tar.gz\n",
      "sagemaker-pytorch-2020-02-24-22-29-09-008/sourcedir.tar.gz\n",
      "sagemaker-pytorch-2020-02-24-22-30-49-119/sourcedir.tar.gz\n",
      "sagemaker-pytorch-2020-02-24-22-40-24-954/sourcedir.tar.gz\n",
      "sagemaker-pytorch-2020-02-24-22-42-26-033/sourcedir.tar.gz\n",
      "sagemaker-pytorch-2020-02-26-06-56-53-733/debug-output/training_job_end.ts\n",
      "sagemaker-pytorch-2020-02-26-06-56-53-733/output/model.tar.gz\n",
      "sagemaker-pytorch-2020-02-26-06-56-53-733/source/sourcedir.tar.gz\n",
      "sagemaker-pytorch-2020-02-26-07-31-32-228/sourcedir.tar.gz\n",
      "sagemaker-pytorch-2020-03-04-16-52-12-245/source/sourcedir.tar.gz\n",
      "sagemaker-pytorch-2020-03-04-16-52-38-939/source/sourcedir.tar.gz\n",
      "sagemaker-pytorch-2020-03-04-16-56-21-898/sourcedir.tar.gz\n",
      "sagemaker-pytorch-2020-03-04-16-56-23-622/source/sourcedir.tar.gz\n",
      "sagemaker-pytorch-2020-03-04-17-00-51-863/source/sourcedir.tar.gz\n",
      "sagemaker-pytorch-2020-03-04-17-04-37-428/source/sourcedir.tar.gz\n",
      "sagemaker-pytorch-2020-03-04-17-09-06-741/source/sourcedir.tar.gz\n",
      "sagemaker-pytorch-2020-03-05-17-39-09-090/source/sourcedir.tar.gz\n",
      "sagemaker-pytorch-2020-03-05-17-49-57-141/source/sourcedir.tar.gz\n",
      "sagemaker-pytorch-2020-03-05-17-58-43-201/source/sourcedir.tar.gz\n",
      "sagemaker-pytorch-2020-03-05-18-00-35-289/source/sourcedir.tar.gz\n",
      "sagemaker-pytorch-2020-03-05-18-05-07-158/sourcedir.tar.gz\n",
      "sagemaker-pytorch-2020-03-05-18-13-40-737/source/sourcedir.tar.gz\n",
      "sagemaker-pytorch-2020-03-05-18-17-23-989/sourcedir.tar.gz\n",
      "sagemaker-pytorch-2020-03-05-18-17-24-240/sourcedir.tar.gz\n",
      "sagemaker-pytorch-2020-03-05-18-24-57-619/source/sourcedir.tar.gz\n",
      "sagemaker-pytorch-2020-03-05-18-28-09-312/source/sourcedir.tar.gz\n",
      "sagemaker-record-sets/KMeans-2020-02-26-22-15-02-588/.amazon.manifest\n",
      "sagemaker-record-sets/KMeans-2020-02-26-22-15-02-588/matrix_0.pbr\n",
      "sagemaker-record-sets/KMeans-2020-02-26-22-15-59-678/.amazon.manifest\n",
      "sagemaker-record-sets/KMeans-2020-02-26-22-15-59-678/matrix_0.pbr\n",
      "sagemaker-record-sets/LinearLearner-2020-02-26-22-57-48-058/.amazon.manifest\n",
      "sagemaker-record-sets/LinearLearner-2020-02-26-22-57-48-058/matrix_0.pbr\n",
      "sagemaker-record-sets/PCA-2020-02-23-15-07-46-536/.amazon.manifest\n",
      "sagemaker-record-sets/PCA-2020-02-23-15-07-46-536/matrix_0.pbr\n",
      "sagemaker-record-sets/PCA-2020-02-26-21-28-02-110/.amazon.manifest\n",
      "sagemaker-record-sets/PCA-2020-02-26-21-28-02-110/matrix_0.pbr\n",
      "sagemaker-scikit-learn-2020-03-05-18-31-08-879/debug-output/training_job_end.ts\n",
      "sagemaker-scikit-learn-2020-03-05-18-31-08-879/source/sourcedir.tar.gz\n",
      "sagemaker-scikit-learn-2020-03-05-18-39-13-817/debug-output/training_job_end.ts\n",
      "sagemaker-scikit-learn-2020-03-05-18-39-13-817/source/sourcedir.tar.gz\n",
      "sagemaker-scikit-learn-2020-03-05-18-44-34-947/debug-output/training_job_end.ts\n",
      "sagemaker-scikit-learn-2020-03-05-18-44-34-947/output/model.tar.gz\n",
      "sagemaker-scikit-learn-2020-03-05-18-44-34-947/source/sourcedir.tar.gz\n",
      "sagemaker/moon-data/train.csv\n",
      "sagemaker/sentiment_rnn/train.csv\n",
      "sagemaker/sentiment_rnn/word_dict.pkl\n",
      "xgboost-2020-01-24-13-49-52-519/test.csv.out\n",
      "Test passed!\n"
     ]
    }
   ],
   "source": [
    "\"\"\"\n",
    "DON'T MODIFY ANYTHING IN THIS CELL THAT IS BELOW THIS LINE\n",
    "\"\"\"\n",
    "# confirm that data is in S3 bucket\n",
    "empty_check = []\n",
    "for obj in boto3.resource('s3').Bucket(bucket).objects.all():\n",
    "    empty_check.append(obj.key)\n",
    "    print(obj.key)\n",
    "\n",
    "assert len(empty_check) !=0, 'S3 bucket is empty.'\n",
    "print('Test passed!')"
   ]
  },
  {
   "cell_type": "markdown",
   "metadata": {},
   "source": [
    "---\n",
    "\n",
    "# Modeling\n",
    "\n",
    "Now that you've uploaded your training data, it's time to define and train a model!\n",
    "\n",
    "The type of model you create is up to you. For a binary classification task, you can choose to go one of three routes:\n",
    "* Use a built-in classification algorithm, like LinearLearner.\n",
    "* Define a custom Scikit-learn classifier, a comparison of models can be found [here](https://scikit-learn.org/stable/auto_examples/classification/plot_classifier_comparison.html).\n",
    "* Define a custom PyTorch neural network classifier. \n",
    "\n",
    "It will be up to you to test out a variety of models and choose the best one. Your project will be graded on the accuracy of your final model. \n",
    " \n",
    "---\n",
    "\n",
    "## EXERCISE: Complete a training script \n",
    "\n",
    "To implement a custom classifier, you'll need to complete a `train.py` script. You've been given the folders `source_sklearn` and `source_pytorch` which hold starting code for a custom Scikit-learn model and a PyTorch model, respectively. Each directory has a `train.py` training script. To complete this project **you only need to complete one of these scripts**; the script that is responsible for training your final model.\n",
    "\n",
    "A typical training script:\n",
    "* Loads training data from a specified directory\n",
    "* Parses any training & model hyperparameters (ex. nodes in a neural network, training epochs, etc.)\n",
    "* Instantiates a model of your design, with any specified hyperparams\n",
    "* Trains that model \n",
    "* Finally, saves the model so that it can be hosted/deployed, later\n",
    "\n",
    "### Defining and training a model\n",
    "Much of the training script code is provided for you. Almost all of your work will be done in the `if __name__ == '__main__':` section. To complete a `train.py` file, you will:\n",
    "1. Import any extra libraries you need\n",
    "2. Define any additional model training hyperparameters using `parser.add_argument`\n",
    "2. Define a model in the `if __name__ == '__main__':` section\n",
    "3. Train the model in that same section\n",
    "\n",
    "Below, you can use `!pygmentize` to display an existing `train.py` file. Read through the code; all of your tasks are marked with `TODO` comments. \n",
    "\n",
    "**Note: If you choose to create a custom PyTorch model, you will be responsible for defining the model in the `model.py` file,** and a `predict.py` file is provided. If you choose to use Scikit-learn, you only need a `train.py` file; you may import a classifier from the `sklearn` library."
   ]
  },
  {
   "cell_type": "code",
   "execution_count": 7,
   "metadata": {
    "scrolled": false
   },
   "outputs": [
    {
     "name": "stdout",
     "output_type": "stream",
     "text": [
      "\u001b[34mfrom\u001b[39;49;00m \u001b[04m\u001b[36m__future__\u001b[39;49;00m \u001b[34mimport\u001b[39;49;00m print_function\r\n",
      "\r\n",
      "\u001b[34mimport\u001b[39;49;00m \u001b[04m\u001b[36margparse\u001b[39;49;00m\r\n",
      "\u001b[34mimport\u001b[39;49;00m \u001b[04m\u001b[36mos\u001b[39;49;00m\r\n",
      "\u001b[34mimport\u001b[39;49;00m \u001b[04m\u001b[36mpandas\u001b[39;49;00m \u001b[34mas\u001b[39;49;00m \u001b[04m\u001b[36mpd\u001b[39;49;00m\r\n",
      "\r\n",
      "\u001b[34mfrom\u001b[39;49;00m \u001b[04m\u001b[36msklearn.externals\u001b[39;49;00m \u001b[34mimport\u001b[39;49;00m joblib\r\n",
      "\r\n",
      "\u001b[37m## TODO: Import any additional libraries you need to define a model\u001b[39;49;00m\r\n",
      "\u001b[34mfrom\u001b[39;49;00m \u001b[04m\u001b[36msklearn.ensemble\u001b[39;49;00m \u001b[34mimport\u001b[39;49;00m RandomForestClassifier\r\n",
      "\r\n",
      "\r\n",
      "\u001b[37m# Provided model load function\u001b[39;49;00m\r\n",
      "\u001b[34mdef\u001b[39;49;00m \u001b[32mmodel_fn\u001b[39;49;00m(model_dir):\r\n",
      "    \u001b[33m\"\"\"Load model from the model_dir. This is the same model that is saved\u001b[39;49;00m\r\n",
      "\u001b[33m    in the main if statement.\u001b[39;49;00m\r\n",
      "\u001b[33m    \"\"\"\u001b[39;49;00m\r\n",
      "    \u001b[34mprint\u001b[39;49;00m(\u001b[33m\"\u001b[39;49;00m\u001b[33mLoading model.\u001b[39;49;00m\u001b[33m\"\u001b[39;49;00m)\r\n",
      "\r\n",
      "    \u001b[37m# load using joblib\u001b[39;49;00m\r\n",
      "    model = joblib.load(os.path.join(model_dir, \u001b[33m\"\u001b[39;49;00m\u001b[33mmodel.joblib\u001b[39;49;00m\u001b[33m\"\u001b[39;49;00m))\r\n",
      "    \u001b[34mprint\u001b[39;49;00m(\u001b[33m\"\u001b[39;49;00m\u001b[33mDone loading model.\u001b[39;49;00m\u001b[33m\"\u001b[39;49;00m)\r\n",
      "\r\n",
      "    \u001b[34mreturn\u001b[39;49;00m model\r\n",
      "\r\n",
      "\r\n",
      "\u001b[37m## TODO: Complete the main code\u001b[39;49;00m\r\n",
      "\u001b[34mif\u001b[39;49;00m \u001b[31m__name__\u001b[39;49;00m == \u001b[33m'\u001b[39;49;00m\u001b[33m__main__\u001b[39;49;00m\u001b[33m'\u001b[39;49;00m:\r\n",
      "    \u001b[37m# All of the model parameters and training parameters are sent as arguments\u001b[39;49;00m\r\n",
      "    \u001b[37m# when this script is executed, during a training job\u001b[39;49;00m\r\n",
      "\r\n",
      "    \u001b[37m# Here we set up an argument parser to easily access the parameters\u001b[39;49;00m\r\n",
      "    parser = argparse.ArgumentParser()\r\n",
      "\r\n",
      "    \u001b[37m# SageMaker parameters, like the directories for training data and saving models; set automatically\u001b[39;49;00m\r\n",
      "    \u001b[37m# Do not need to change\u001b[39;49;00m\r\n",
      "    parser.add_argument(\u001b[33m'\u001b[39;49;00m\u001b[33m--output-data-dir\u001b[39;49;00m\u001b[33m'\u001b[39;49;00m, \u001b[36mtype\u001b[39;49;00m=\u001b[36mstr\u001b[39;49;00m, default=os.environ[\u001b[33m'\u001b[39;49;00m\u001b[33mSM_OUTPUT_DATA_DIR\u001b[39;49;00m\u001b[33m'\u001b[39;49;00m])\r\n",
      "    parser.add_argument(\u001b[33m'\u001b[39;49;00m\u001b[33m--model-dir\u001b[39;49;00m\u001b[33m'\u001b[39;49;00m, \u001b[36mtype\u001b[39;49;00m=\u001b[36mstr\u001b[39;49;00m, default=os.environ[\u001b[33m'\u001b[39;49;00m\u001b[33mSM_MODEL_DIR\u001b[39;49;00m\u001b[33m'\u001b[39;49;00m])\r\n",
      "    parser.add_argument(\u001b[33m'\u001b[39;49;00m\u001b[33m--data-dir\u001b[39;49;00m\u001b[33m'\u001b[39;49;00m, \u001b[36mtype\u001b[39;49;00m=\u001b[36mstr\u001b[39;49;00m, default=os.environ[\u001b[33m'\u001b[39;49;00m\u001b[33mSM_CHANNEL_TRAIN\u001b[39;49;00m\u001b[33m'\u001b[39;49;00m])\r\n",
      "\r\n",
      "    \u001b[37m## TODO: Add any additional arguments that you will need to pass into your model\u001b[39;49;00m\r\n",
      "\r\n",
      "    \u001b[37m# args holds all passed-in arguments\u001b[39;49;00m\r\n",
      "    args = parser.parse_args()\r\n",
      "\r\n",
      "    \u001b[37m# Read in csv training file\u001b[39;49;00m\r\n",
      "    training_dir = args.data_dir\r\n",
      "    train_data = pd.read_csv(os.path.join(training_dir, \u001b[33m\"\u001b[39;49;00m\u001b[33mtrain.csv\u001b[39;49;00m\u001b[33m\"\u001b[39;49;00m), header=\u001b[36mNone\u001b[39;49;00m, names=\u001b[36mNone\u001b[39;49;00m)\r\n",
      "\r\n",
      "    \u001b[37m# Labels are in the first column\u001b[39;49;00m\r\n",
      "    train_y = train_data.iloc[:, \u001b[34m0\u001b[39;49;00m]\r\n",
      "    train_x = train_data.iloc[:, \u001b[34m1\u001b[39;49;00m:]\r\n",
      "\r\n",
      "    \u001b[37m## --- Your code here --- ##\u001b[39;49;00m\r\n",
      "\r\n",
      "    \u001b[37m## TODO: Define a model\u001b[39;49;00m\r\n",
      "    model = RandomForestClassifier()\r\n",
      "\r\n",
      "    \u001b[37m## TODO: Train the model\u001b[39;49;00m\r\n",
      "    model.fit(train_x, train_y)\r\n",
      "\r\n",
      "    \u001b[37m## --- End of your code  --- ##\u001b[39;49;00m\r\n",
      "\r\n",
      "    \u001b[37m# Save the trained model\u001b[39;49;00m\r\n",
      "    joblib.dump(model, os.path.join(args.model_dir, \u001b[33m\"\u001b[39;49;00m\u001b[33mmodel.joblib\u001b[39;49;00m\u001b[33m\"\u001b[39;49;00m))\r\n"
     ]
    }
   ],
   "source": [
    "# directory can be changed to: source_sklearn or source_pytorch\n",
    "!pygmentize source_sklearn/train.py"
   ]
  },
  {
   "cell_type": "markdown",
   "metadata": {},
   "source": [
    "### Provided code\n",
    "\n",
    "If you read the code above, you can see that the starter code includes a few things:\n",
    "* Model loading (`model_fn`) and saving code\n",
    "* Getting SageMaker's default hyperparameters\n",
    "* Loading the training data by name, `train.csv` and extracting the features and labels, `train_x`, and `train_y`\n",
    "\n",
    "If you'd like to read more about model saving with [joblib for sklearn](https://scikit-learn.org/stable/modules/model_persistence.html) or with [torch.save](https://pytorch.org/tutorials/beginner/saving_loading_models.html), click on the provided links."
   ]
  },
  {
   "cell_type": "markdown",
   "metadata": {},
   "source": [
    "---\n",
    "# Create an Estimator\n",
    "\n",
    "When a custom model is constructed in SageMaker, an entry point must be specified. This is the Python file which will be executed when the model is trained; the `train.py` function you specified above. To run a custom training script in SageMaker, construct an estimator, and fill in the appropriate constructor arguments:\n",
    "\n",
    "* **entry_point**: The path to the Python script SageMaker runs for training and prediction.\n",
    "* **source_dir**: The path to the training script directory `source_sklearn` OR `source_pytorch`.\n",
    "* **entry_point**: The path to the Python script SageMaker runs for training and prediction.\n",
    "* **source_dir**: The path to the training script directory `train_sklearn` OR `train_pytorch`.\n",
    "* **entry_point**: The path to the Python script SageMaker runs for training.\n",
    "* **source_dir**: The path to the training script directory `train_sklearn` OR `train_pytorch`.\n",
    "* **role**: Role ARN, which was specified, above.\n",
    "* **train_instance_count**: The number of training instances (should be left at 1).\n",
    "* **train_instance_type**: The type of SageMaker instance for training. Note: Because Scikit-learn does not natively support GPU training, Sagemaker Scikit-learn does not currently support training on GPU instance types.\n",
    "* **sagemaker_session**: The session used to train on Sagemaker.\n",
    "* **hyperparameters** (optional): A dictionary `{'name':value, ..}` passed to the train function as hyperparameters.\n",
    "\n",
    "Note: For a PyTorch model, there is another optional argument **framework_version**, which you can set to the latest version of PyTorch, `1.0`.\n",
    "\n",
    "## EXERCISE: Define a Scikit-learn or PyTorch estimator\n",
    "\n",
    "To import your desired estimator, use one of the following lines:\n",
    "```\n",
    "from sagemaker.sklearn.estimator import SKLearn\n",
    "```\n",
    "```\n",
    "from sagemaker.pytorch import PyTorch\n",
    "```"
   ]
  },
  {
   "cell_type": "code",
   "execution_count": 8,
   "metadata": {},
   "outputs": [],
   "source": [
    "# # PYTORCH\n",
    "\n",
    "# # your import and estimator code, here\n",
    "# # import a PyTorch wrapper\n",
    "# from sagemaker.pytorch import PyTorch\n",
    "\n",
    "# # specify an output path\n",
    "# # prefix is specified above\n",
    "# output_path = 's3://{}/{}'.format(bucket, prefix)\n",
    "\n",
    "# # instantiate a pytorch estimator\n",
    "# estimator = PyTorch(entry_point='train.py',\n",
    "#                     source_dir='source_pytorch', # this should be just \"source\" for your code\n",
    "#                     role=role,\n",
    "#                     framework_version='1.0',\n",
    "#                     train_instance_count=1,\n",
    "#                     train_instance_type='ml.c4.xlarge',\n",
    "#                     output_path=output_path,\n",
    "#                     sagemaker_session=sagemaker_session,\n",
    "#                     hyperparameters={\n",
    "#                         'input_features': 5,  # num of features\n",
    "#                         'hidden_dim': 10,\n",
    "#                         'output_dim': 1,\n",
    "#                         'epochs': 10 # could change to higher\n",
    "#                     })"
   ]
  },
  {
   "cell_type": "code",
   "execution_count": 9,
   "metadata": {},
   "outputs": [],
   "source": [
    "### SKLEARN\n",
    "\n",
    "from sagemaker.sklearn.estimator import SKLearn\n",
    "\n",
    "estimator = SKLearn(entry_point=\"train.py\",\n",
    "                    source_dir=\"source_sklearn\",\n",
    "                    train_instance_type=\"ml.c4.xlarge\",\n",
    "                    role=role,\n",
    "                    sagemaker_session=sagemaker_session)"
   ]
  },
  {
   "cell_type": "markdown",
   "metadata": {},
   "source": [
    "## EXERCISE: Train the estimator\n",
    "\n",
    "Train your estimator on the training data stored in S3. This should create a training job that you can monitor in your SageMaker console."
   ]
  },
  {
   "cell_type": "code",
   "execution_count": 10,
   "metadata": {},
   "outputs": [
    {
     "name": "stdout",
     "output_type": "stream",
     "text": [
      "2020-03-06 12:58:38 Starting - Starting the training job...\n",
      "2020-03-06 12:58:40 Starting - Launching requested ML instances......\n",
      "2020-03-06 12:59:42 Starting - Preparing the instances for training......\n",
      "2020-03-06 13:00:51 Downloading - Downloading input data...\n",
      "2020-03-06 13:01:25 Training - Downloading the training image..\u001b[34m2020-03-06 13:01:45,732 sagemaker-containers INFO     Imported framework sagemaker_sklearn_container.training\u001b[0m\n",
      "\u001b[34m2020-03-06 13:01:45,735 sagemaker-containers INFO     No GPUs detected (normal if no gpus installed)\u001b[0m\n",
      "\u001b[34m2020-03-06 13:01:45,745 sagemaker_sklearn_container.training INFO     Invoking user training script.\u001b[0m\n",
      "\u001b[34m2020-03-06 13:01:46,050 sagemaker-containers INFO     Module train does not provide a setup.py. \u001b[0m\n",
      "\u001b[34mGenerating setup.py\u001b[0m\n",
      "\u001b[34m2020-03-06 13:01:46,051 sagemaker-containers INFO     Generating setup.cfg\u001b[0m\n",
      "\u001b[34m2020-03-06 13:01:46,051 sagemaker-containers INFO     Generating MANIFEST.in\u001b[0m\n",
      "\u001b[34m2020-03-06 13:01:46,051 sagemaker-containers INFO     Installing module with the following command:\u001b[0m\n",
      "\u001b[34m/miniconda3/bin/python -m pip install . \u001b[0m\n",
      "\u001b[34mProcessing /opt/ml/code\u001b[0m\n",
      "\u001b[34mBuilding wheels for collected packages: train\n",
      "  Building wheel for train (setup.py): started\n",
      "  Building wheel for train (setup.py): finished with status 'done'\n",
      "  Created wheel for train: filename=train-1.0.0-py2.py3-none-any.whl size=5810 sha256=a0a58cb4a4dac8c2df01eac78dbed5943e34110d415f632813a3d35cdd7abace\n",
      "  Stored in directory: /tmp/pip-ephem-wheel-cache-rs5ujgdh/wheels/35/24/16/37574d11bf9bde50616c67372a334f94fa8356bc7164af8ca3\u001b[0m\n",
      "\u001b[34mSuccessfully built train\u001b[0m\n",
      "\u001b[34mInstalling collected packages: train\u001b[0m\n",
      "\u001b[34mSuccessfully installed train-1.0.0\u001b[0m\n",
      "\u001b[34m2020-03-06 13:01:47,554 sagemaker-containers INFO     No GPUs detected (normal if no gpus installed)\u001b[0m\n",
      "\u001b[34m2020-03-06 13:01:47,565 sagemaker-containers INFO     Invoking user script\n",
      "\u001b[0m\n",
      "\u001b[34mTraining Env:\n",
      "\u001b[0m\n",
      "\u001b[34m{\n",
      "    \"additional_framework_parameters\": {},\n",
      "    \"channel_input_dirs\": {\n",
      "        \"train\": \"/opt/ml/input/data/train\"\n",
      "    },\n",
      "    \"current_host\": \"algo-1\",\n",
      "    \"framework_module\": \"sagemaker_sklearn_container.training:main\",\n",
      "    \"hosts\": [\n",
      "        \"algo-1\"\n",
      "    ],\n",
      "    \"hyperparameters\": {},\n",
      "    \"input_config_dir\": \"/opt/ml/input/config\",\n",
      "    \"input_data_config\": {\n",
      "        \"train\": {\n",
      "            \"TrainingInputMode\": \"File\",\n",
      "            \"S3DistributionType\": \"FullyReplicated\",\n",
      "            \"RecordWrapperType\": \"None\"\n",
      "        }\n",
      "    },\n",
      "    \"input_dir\": \"/opt/ml/input\",\n",
      "    \"is_master\": true,\n",
      "    \"job_name\": \"sagemaker-scikit-learn-2020-03-06-12-58-38-786\",\n",
      "    \"log_level\": 20,\n",
      "    \"master_hostname\": \"algo-1\",\n",
      "    \"model_dir\": \"/opt/ml/model\",\n",
      "    \"module_dir\": \"s3://sagemaker-eu-west-1-831842320841/sagemaker-scikit-learn-2020-03-06-12-58-38-786/source/sourcedir.tar.gz\",\n",
      "    \"module_name\": \"train\",\n",
      "    \"network_interface_name\": \"eth0\",\n",
      "    \"num_cpus\": 4,\n",
      "    \"num_gpus\": 0,\n",
      "    \"output_data_dir\": \"/opt/ml/output/data\",\n",
      "    \"output_dir\": \"/opt/ml/output\",\n",
      "    \"output_intermediate_dir\": \"/opt/ml/output/intermediate\",\n",
      "    \"resource_config\": {\n",
      "        \"current_host\": \"algo-1\",\n",
      "        \"hosts\": [\n",
      "            \"algo-1\"\n",
      "        ],\n",
      "        \"network_interface_name\": \"eth0\"\n",
      "    },\n",
      "    \"user_entry_point\": \"train.py\"\u001b[0m\n",
      "\u001b[34m}\n",
      "\u001b[0m\n",
      "\u001b[34mEnvironment variables:\n",
      "\u001b[0m\n",
      "\u001b[34mSM_HOSTS=[\"algo-1\"]\u001b[0m\n",
      "\u001b[34mSM_NETWORK_INTERFACE_NAME=eth0\u001b[0m\n",
      "\u001b[34mSM_HPS={}\u001b[0m\n",
      "\u001b[34mSM_USER_ENTRY_POINT=train.py\u001b[0m\n",
      "\u001b[34mSM_FRAMEWORK_PARAMS={}\u001b[0m\n",
      "\u001b[34mSM_RESOURCE_CONFIG={\"current_host\":\"algo-1\",\"hosts\":[\"algo-1\"],\"network_interface_name\":\"eth0\"}\u001b[0m\n",
      "\u001b[34mSM_INPUT_DATA_CONFIG={\"train\":{\"RecordWrapperType\":\"None\",\"S3DistributionType\":\"FullyReplicated\",\"TrainingInputMode\":\"File\"}}\u001b[0m\n",
      "\u001b[34mSM_OUTPUT_DATA_DIR=/opt/ml/output/data\u001b[0m\n",
      "\u001b[34mSM_CHANNELS=[\"train\"]\u001b[0m\n",
      "\u001b[34mSM_CURRENT_HOST=algo-1\u001b[0m\n",
      "\u001b[34mSM_MODULE_NAME=train\u001b[0m\n",
      "\u001b[34mSM_LOG_LEVEL=20\u001b[0m\n",
      "\u001b[34mSM_FRAMEWORK_MODULE=sagemaker_sklearn_container.training:main\u001b[0m\n",
      "\u001b[34mSM_INPUT_DIR=/opt/ml/input\u001b[0m\n",
      "\u001b[34mSM_INPUT_CONFIG_DIR=/opt/ml/input/config\u001b[0m\n",
      "\u001b[34mSM_OUTPUT_DIR=/opt/ml/output\u001b[0m\n",
      "\u001b[34mSM_NUM_CPUS=4\u001b[0m\n",
      "\u001b[34mSM_NUM_GPUS=0\u001b[0m\n",
      "\u001b[34mSM_MODEL_DIR=/opt/ml/model\u001b[0m\n",
      "\u001b[34mSM_MODULE_DIR=s3://sagemaker-eu-west-1-831842320841/sagemaker-scikit-learn-2020-03-06-12-58-38-786/source/sourcedir.tar.gz\u001b[0m\n",
      "\u001b[34mSM_TRAINING_ENV={\"additional_framework_parameters\":{},\"channel_input_dirs\":{\"train\":\"/opt/ml/input/data/train\"},\"current_host\":\"algo-1\",\"framework_module\":\"sagemaker_sklearn_container.training:main\",\"hosts\":[\"algo-1\"],\"hyperparameters\":{},\"input_config_dir\":\"/opt/ml/input/config\",\"input_data_config\":{\"train\":{\"RecordWrapperType\":\"None\",\"S3DistributionType\":\"FullyReplicated\",\"TrainingInputMode\":\"File\"}},\"input_dir\":\"/opt/ml/input\",\"is_master\":true,\"job_name\":\"sagemaker-scikit-learn-2020-03-06-12-58-38-786\",\"log_level\":20,\"master_hostname\":\"algo-1\",\"model_dir\":\"/opt/ml/model\",\"module_dir\":\"s3://sagemaker-eu-west-1-831842320841/sagemaker-scikit-learn-2020-03-06-12-58-38-786/source/sourcedir.tar.gz\",\"module_name\":\"train\",\"network_interface_name\":\"eth0\",\"num_cpus\":4,\"num_gpus\":0,\"output_data_dir\":\"/opt/ml/output/data\",\"output_dir\":\"/opt/ml/output\",\"output_intermediate_dir\":\"/opt/ml/output/intermediate\",\"resource_config\":{\"current_host\":\"algo-1\",\"hosts\":[\"algo-1\"],\"network_interface_name\":\"eth0\"},\"user_entry_point\":\"train.py\"}\u001b[0m\n",
      "\u001b[34mSM_USER_ARGS=[]\u001b[0m\n",
      "\u001b[34mSM_OUTPUT_INTERMEDIATE_DIR=/opt/ml/output/intermediate\u001b[0m\n",
      "\u001b[34mSM_CHANNEL_TRAIN=/opt/ml/input/data/train\u001b[0m\n",
      "\u001b[34mPYTHONPATH=/miniconda3/bin:/miniconda3/lib/python37.zip:/miniconda3/lib/python3.7:/miniconda3/lib/python3.7/lib-dynload:/miniconda3/lib/python3.7/site-packages\n",
      "\u001b[0m\n",
      "\u001b[34mInvoking script with the following command:\n",
      "\u001b[0m\n",
      "\u001b[34m/miniconda3/bin/python -m train\n",
      "\n",
      "\u001b[0m\n",
      "\u001b[34m/miniconda3/lib/python3.7/site-packages/sklearn/externals/joblib/externals/cloudpickle/cloudpickle.py:47: DeprecationWarning: the imp module is deprecated in favour of importlib; see the module's documentation for alternative uses\n",
      "  import imp\u001b[0m\n",
      "\u001b[34m/miniconda3/lib/python3.7/site-packages/sklearn/ensemble/forest.py:248: FutureWarning: The default value of n_estimators will change from 10 in version 0.20 to 100 in 0.22.\n",
      "  \"10 in version 0.20 to 100 in 0.22.\", FutureWarning)\u001b[0m\n",
      "\u001b[34m2020-03-06 13:01:49,253 sagemaker-containers INFO     Reporting training SUCCESS\u001b[0m\n",
      "\n",
      "2020-03-06 13:01:57 Uploading - Uploading generated training model\n",
      "2020-03-06 13:01:57 Completed - Training job completed\n",
      "Training seconds: 66\n",
      "Billable seconds: 66\n",
      "CPU times: user 439 ms, sys: 31.2 ms, total: 470 ms\n",
      "Wall time: 3min 43s\n"
     ]
    }
   ],
   "source": [
    "%%time\n",
    "\n",
    "# Train your estimator on S3 training data\n",
    "estimator.fit({'train': input_data})"
   ]
  },
  {
   "cell_type": "code",
   "execution_count": 11,
   "metadata": {},
   "outputs": [
    {
     "name": "stdout",
     "output_type": "stream",
     "text": [
      "CPU times: user 3 µs, sys: 0 ns, total: 3 µs\n",
      "Wall time: 5.96 µs\n"
     ]
    }
   ],
   "source": [
    "%%time\n",
    "\n",
    "# uncomment, if needed\n",
    "# importing PyTorchModel\n",
    "# from sagemaker.pytorch import PyTorchModel\n",
    "\n",
    "# Create a model from the trained estimator data\n",
    "# And point to the prediction script\n",
    "# model = PyTorchModel(model_data=estimator.model_data,\n",
    "#                      role = role,\n",
    "#                      framework_version='1.0',\n",
    "#                      entry_point='predict.py',\n",
    "#                      source_dir='source_pytorch')"
   ]
  },
  {
   "cell_type": "code",
   "execution_count": 13,
   "metadata": {},
   "outputs": [
    {
     "name": "stdout",
     "output_type": "stream",
     "text": [
      "-------------!CPU times: user 225 ms, sys: 7.24 ms, total: 232 ms\n",
      "Wall time: 6min 32s\n"
     ]
    }
   ],
   "source": [
    "%%time\n",
    "# deploy your model to create a predictor\n",
    "predictor = estimator.deploy(initial_instance_count=1, instance_type='ml.t2.medium')"
   ]
  },
  {
   "cell_type": "markdown",
   "metadata": {},
   "source": [
    "---\n",
    "# Evaluating Your Model\n",
    "\n",
    "Once your model is deployed, you can see how it performs when applied to our test data.\n",
    "\n",
    "The provided cell below, reads in the test data, assuming it is stored locally in `data_dir` and named `test.csv`. The labels and features are extracted from the `.csv` file."
   ]
  },
  {
   "cell_type": "code",
   "execution_count": 14,
   "metadata": {},
   "outputs": [],
   "source": [
    "\"\"\"\n",
    "DON'T MODIFY ANYTHING IN THIS CELL THAT IS BELOW THIS LINE\n",
    "\"\"\"\n",
    "import os\n",
    "\n",
    "# read in test data, assuming it is stored locally\n",
    "test_data = pd.read_csv(os.path.join(data_dir, \"test.csv\"), header=None, names=None)\n",
    "\n",
    "# labels are in the first column\n",
    "test_y = test_data.iloc[:,0]\n",
    "test_x = test_data.iloc[:,1:]"
   ]
  },
  {
   "cell_type": "markdown",
   "metadata": {},
   "source": [
    "## EXERCISE: Determine the accuracy of your model\n",
    "\n",
    "Use your deployed `predictor` to generate predicted, class labels for the test data. Compare those to the *true* labels, `test_y`, and calculate the accuracy as a value between 0 and 1.0 that indicates the fraction of test data that your model classified correctly. You may use [sklearn.metrics](https://scikit-learn.org/stable/modules/classes.html#module-sklearn.metrics) for this calculation.\n",
    "\n",
    "**To pass this project, your model should get at least 90% test accuracy.**"
   ]
  },
  {
   "cell_type": "code",
   "execution_count": 15,
   "metadata": {},
   "outputs": [],
   "source": [
    "import numpy as np"
   ]
  },
  {
   "cell_type": "code",
   "execution_count": 16,
   "metadata": {},
   "outputs": [
    {
     "name": "stdout",
     "output_type": "stream",
     "text": [
      "Test passed!\n"
     ]
    }
   ],
   "source": [
    "# First: generate predicted, class labels\n",
    "test_y_preds = np.squeeze(np.round(predictor.predict(test_x)))\n",
    "\n",
    "\"\"\"\n",
    "DON'T MODIFY ANYTHING IN THIS CELL THAT IS BELOW THIS LINE\n",
    "\"\"\"\n",
    "# test that your model generates the correct number of labels\n",
    "assert len(test_y_preds)==len(test_y), 'Unexpected number of predictions.'\n",
    "print('Test passed!')"
   ]
  },
  {
   "cell_type": "code",
   "execution_count": 17,
   "metadata": {},
   "outputs": [
    {
     "name": "stdout",
     "output_type": "stream",
     "text": [
      "0.92\n",
      "\n",
      "Predicted class labels: \n",
      "[1 1 1 1 1 1 0 0 0 0 0 1 1 1 1 1 1 1 0 1 0 1 1 0 1]\n",
      "\n",
      "True class labels: \n",
      "[1 1 1 1 1 1 0 0 0 0 0 0 1 1 1 1 1 1 0 1 0 1 1 0 0]\n"
     ]
    }
   ],
   "source": [
    "from sklearn.metrics import accuracy_score\n",
    "\n",
    "# Second: calculate the test accuracy\n",
    "accuracy = accuracy_score(test_y, test_y_preds)\n",
    "\n",
    "print(accuracy)\n",
    "\n",
    "## print out the array of predicted and true labels, if you want\n",
    "print('\\nPredicted class labels: ')\n",
    "print(test_y_preds)\n",
    "print('\\nTrue class labels: ')\n",
    "print(test_y.values)"
   ]
  },
  {
   "cell_type": "code",
   "execution_count": 18,
   "metadata": {},
   "outputs": [],
   "source": [
    "def evaluate(test_preds, test_labels, verbose=True):\n",
    "    \n",
    "    # calculate true positives, false positives, true negatives, false negatives\n",
    "    tp = np.logical_and(test_labels, test_preds).sum()\n",
    "    fp = np.logical_and(1-test_labels, test_preds).sum()\n",
    "    tn = np.logical_and(1-test_labels, 1-test_preds).sum()\n",
    "    fn = np.logical_and(test_labels, 1-test_preds).sum()\n",
    "    \n",
    "    # calculate binary classification metrics\n",
    "    recall = tp / (tp + fn)\n",
    "    precision = tp / (tp + fp)\n",
    "    accuracy = (tp + tn) / (tp + fp + tn + fn)\n",
    "    \n",
    "    # print metrics\n",
    "    if verbose:\n",
    "        print(pd.crosstab(test_labels, test_preds, rownames=['actuals'], colnames=['predictions']))\n",
    "        print(\"\\n{:<11} {:.3f}\".format('Recall:', recall))\n",
    "        print(\"{:<11} {:.3f}\".format('Precision:', precision))\n",
    "        print(\"{:<11} {:.3f}\".format('Accuracy:', accuracy))\n",
    "        print()\n",
    "        \n",
    "    return {'TP': tp, 'FP': fp, 'FN': fn, 'TN': tn, \n",
    "            'Precision': precision, 'Recall': recall, 'Accuracy': accuracy}"
   ]
  },
  {
   "cell_type": "code",
   "execution_count": 20,
   "metadata": {},
   "outputs": [
    {
     "name": "stdout",
     "output_type": "stream",
     "text": [
      "predictions  0   1\n",
      "actuals           \n",
      "0            8   2\n",
      "1            0  15\n",
      "\n",
      "Recall:     1.000\n",
      "Precision:  0.882\n",
      "Accuracy:   0.920\n",
      "\n"
     ]
    },
    {
     "data": {
      "text/plain": [
       "{'TP': 15,\n",
       " 'FP': 2,\n",
       " 'FN': 0,\n",
       " 'TN': 8,\n",
       " 'Precision': 0.8823529411764706,\n",
       " 'Recall': 1.0,\n",
       " 'Accuracy': 0.92}"
      ]
     },
     "execution_count": 20,
     "metadata": {},
     "output_type": "execute_result"
    }
   ],
   "source": [
    "evaluate(test_y_preds, test_y)"
   ]
  },
  {
   "cell_type": "markdown",
   "metadata": {},
   "source": [
    "### Question 1: How many false positives and false negatives did your model produce, if any? And why do you think this is?"
   ]
  },
  {
   "cell_type": "markdown",
   "metadata": {},
   "source": [
    "** Answer**: \n",
    "\n",
    "There are no false negatives and two false positives. It might be because we have a small dataset to train/test on and also the number of features is large compared to the data size. Still, the model performs well with high recall and precision."
   ]
  },
  {
   "cell_type": "markdown",
   "metadata": {},
   "source": [
    "### Question 2: How did you decide on the type of model to use? "
   ]
  },
  {
   "cell_type": "markdown",
   "metadata": {},
   "source": [
    "** Answer**:\n",
    "\n",
    "I first used a simple fully-connected NN to familiarize myself further with the PyTorch API. It was probably an overkill considering that the test dataset is small. So then I used RandomForestClassifier to simplify the algorithm and it performed well.\n"
   ]
  },
  {
   "cell_type": "markdown",
   "metadata": {},
   "source": [
    "----\n",
    "## EXERCISE: Clean up Resources\n",
    "\n",
    "After you're done evaluating your model, **delete your model endpoint**. You can do this with a call to `.delete_endpoint()`. You need to show, in this notebook, that the endpoint was deleted. Any other resources, you may delete from the AWS console, and you will find more instructions on cleaning up all your resources, below."
   ]
  },
  {
   "cell_type": "code",
   "execution_count": 21,
   "metadata": {},
   "outputs": [],
   "source": [
    "# uncomment and fill in the line below!\n",
    "predictor.delete_endpoint()"
   ]
  },
  {
   "cell_type": "markdown",
   "metadata": {},
   "source": [
    "### Deleting S3 bucket\n",
    "\n",
    "When you are *completely* done with training and testing models, you can also delete your entire S3 bucket. If you do this before you are done training your model, you'll have to recreate your S3 bucket and upload your training data again."
   ]
  },
  {
   "cell_type": "code",
   "execution_count": 22,
   "metadata": {},
   "outputs": [
    {
     "data": {
      "text/plain": [
       "[{'ResponseMetadata': {'RequestId': '3B057787A92B736E',\n",
       "   'HostId': 'ooJrLnuog8JAhZ+wC3T3FrNGTDj8gfQ8KgN/tkHsvqEIStxbM7HjmCT+P5UHEwydgHEjiywXVXE=',\n",
       "   'HTTPStatusCode': 200,\n",
       "   'HTTPHeaders': {'x-amz-id-2': 'ooJrLnuog8JAhZ+wC3T3FrNGTDj8gfQ8KgN/tkHsvqEIStxbM7HjmCT+P5UHEwydgHEjiywXVXE=',\n",
       "    'x-amz-request-id': '3B057787A92B736E',\n",
       "    'date': 'Fri, 06 Mar 2020 13:20:11 GMT',\n",
       "    'connection': 'close',\n",
       "    'content-type': 'application/xml',\n",
       "    'transfer-encoding': 'chunked',\n",
       "    'server': 'AmazonS3'},\n",
       "   'RetryAttempts': 0},\n",
       "  'Deleted': [{'Key': 'sagemaker-pytorch-2020-02-23-09-13-01-595/source/sourcedir.tar.gz'},\n",
       "   {'Key': 'sagemaker-pytorch-2020-03-04-17-00-51-863/source/sourcedir.tar.gz'},\n",
       "   {'Key': 'boston-xgboost-HL/output/xgboost-2020-01-24-13-44-26-753/output/model.tar.gz'},\n",
       "   {'Key': 'plagiarism-dfs/sagemaker-pytorch-2020-03-05-18-13-40-737/output/model.tar.gz'},\n",
       "   {'Key': 'plagiarism-dfs/train.csv'},\n",
       "   {'Key': 'boston-xgboost-tuning-HL/output/xgboost-200131-1540-008-9e9ee8b8/output/model.tar.gz'},\n",
       "   {'Key': 'boston-xgboost-tuning-HL/output/xgboost-200131-1540-011-b05de4f6/output/model.tar.gz'},\n",
       "   {'Key': 'sagemaker-record-sets/LinearLearner-2020-02-26-22-57-48-058/.amazon.manifest'},\n",
       "   {'Key': 'boston-xgboost-HL/validation.csv'},\n",
       "   {'Key': 'sagemaker-pytorch-2020-03-04-17-04-37-428/source/sourcedir.tar.gz'},\n",
       "   {'Key': 'boston-xgboost-tuning-HL/output/xgboost-200131-1540-014-67b7706a/output/model.tar.gz'},\n",
       "   {'Key': 'sagemaker-pytorch-2020-02-24-20-50-49-887/source/sourcedir.tar.gz'},\n",
       "   {'Key': 'sagemaker-pytorch-2020-02-24-20-36-34-432/source/sourcedir.tar.gz'},\n",
       "   {'Key': 'plagiarism-dfs/sagemaker-pytorch-2020-03-04-17-04-37-428/debug-output/training_job_end.ts'},\n",
       "   {'Key': 'boston-xgboost-tuning-HL/output/xgboost-200131-1540-009-e0a9dd51/output/model.tar.gz'},\n",
       "   {'Key': 'sagemaker-pytorch-2020-02-24-22-29-09-008/sourcedir.tar.gz'},\n",
       "   {'Key': 'sagemaker-pytorch-2020-03-05-17-39-09-090/source/sourcedir.tar.gz'},\n",
       "   {'Key': 'sagemaker-record-sets/KMeans-2020-02-26-22-15-59-678/matrix_0.pbr'},\n",
       "   {'Key': 'sagemaker-pytorch-2020-03-04-16-52-12-245/source/sourcedir.tar.gz'},\n",
       "   {'Key': 'sagemaker-pytorch-2020-02-24-20-50-49-887/output/model.tar.gz'},\n",
       "   {'Key': 'sagemaker-pytorch-2020-03-04-16-52-38-939/source/sourcedir.tar.gz'},\n",
       "   {'Key': 'boston-xgboost-tuning-HL/output/xgboost-200131-1540-002-229010b0/output/model.tar.gz'},\n",
       "   {'Key': 'boston-xgboost-tuning-HL/output/xgboost-200131-1540-003-d7ac13b1/output/model.tar.gz'},\n",
       "   {'Key': 'sagemaker-scikit-learn-2020-03-05-18-44-34-947/debug-output/training_job_end.ts'},\n",
       "   {'Key': 'sagemaker-pytorch-2020-02-24-20-28-32-042/output/model.tar.gz'},\n",
       "   {'Key': 'sagemaker-pytorch-2020-02-24-22-30-49-119/sourcedir.tar.gz'},\n",
       "   {'Key': 'sagemaker-scikit-learn-2020-03-06-12-58-38-786/debug-output/training_job_end.ts'},\n",
       "   {'Key': 'sagemaker-scikit-learn-2020-03-05-18-39-13-817/debug-output/training_job_end.ts'},\n",
       "   {'Key': 'plagiarism-dfs/sagemaker-pytorch-2020-03-04-17-09-06-741/debug-output/training_job_end.ts'},\n",
       "   {'Key': 'sagemaker-scikit-learn-2020-03-05-18-31-08-879/debug-output/training_job_end.ts'},\n",
       "   {'Key': 'sagemaker-record-sets/PCA-2020-02-26-21-28-02-110/matrix_0.pbr'},\n",
       "   {'Key': 'sagemaker-scikit-learn-2020-03-06-12-58-38-786/output/model.tar.gz'},\n",
       "   {'Key': 'plagiarism-dfs/sagemaker-pytorch-2020-03-05-17-58-43-201/debug-output/training_job_end.ts'},\n",
       "   {'Key': 'sagemaker-pytorch-2020-02-24-20-39-59-870/debug-output/training_job_end.ts'},\n",
       "   {'Key': 'sagemaker-pytorch-2020-03-05-18-17-24-240/sourcedir.tar.gz'},\n",
       "   {'Key': 'plagiarism-dfs/sagemaker-pytorch-2020-03-05-18-00-35-289/debug-output/training_job_end.ts'},\n",
       "   {'Key': 'sagemaker-pytorch-2020-03-04-17-09-06-741/source/sourcedir.tar.gz'},\n",
       "   {'Key': 'plagiarism-dfs/sagemaker-pytorch-2020-03-04-17-00-51-863/debug-output/training_job_end.ts'},\n",
       "   {'Key': 'sagemaker-pytorch-2020-02-24-20-28-32-042/source/sourcedir.tar.gz'},\n",
       "   {'Key': 'sagemaker-pytorch-2020-02-24-20-50-49-887/debug-output/training_job_end.ts'},\n",
       "   {'Key': 'sagemaker-pytorch-2020-03-05-17-49-57-141/source/sourcedir.tar.gz'},\n",
       "   {'Key': 'sagemaker-pytorch-2020-03-05-18-13-40-737/source/sourcedir.tar.gz'},\n",
       "   {'Key': 'plagiarism-dfs/test.csv'},\n",
       "   {'Key': 'sagemaker-pytorch-2020-03-04-16-56-23-622/source/sourcedir.tar.gz'},\n",
       "   {'Key': 'sagemaker-pytorch-2020-02-26-06-56-53-733/source/sourcedir.tar.gz'},\n",
       "   {'Key': 'boston-xgboost-tuning-HL/output/xgboost-200131-1540-004-640de4ee/output/model.tar.gz'},\n",
       "   {'Key': 'sagemaker-pytorch-2020-03-05-17-58-43-201/source/sourcedir.tar.gz'},\n",
       "   {'Key': 'sagemaker-pytorch-2020-02-22-17-35-30-304/debug-output/training_job_end.ts'},\n",
       "   {'Key': 'sagemaker-record-sets/PCA-2020-02-26-21-28-02-110/.amazon.manifest'},\n",
       "   {'Key': 'sagemaker-scikit-learn-2020-03-06-12-58-38-786/source/sourcedir.tar.gz'},\n",
       "   {'Key': 'boston-xgboost-tuning-HL/output/xgboost-200131-1540-015-22b02e0e/output/model.tar.gz'},\n",
       "   {'Key': 'sagemaker-pytorch-2020-03-05-18-00-35-289/source/sourcedir.tar.gz'},\n",
       "   {'Key': 'boston-xgboost-HL/train.csv'},\n",
       "   {'Key': 'sagemaker-scikit-learn-2020-03-05-18-39-13-817/source/sourcedir.tar.gz'},\n",
       "   {'Key': 'sagemaker-record-sets/KMeans-2020-02-26-22-15-59-678/.amazon.manifest'},\n",
       "   {'Key': 'sagemaker/sentiment_rnn/train.csv'},\n",
       "   {'Key': 'sagemaker-scikit-learn-2020-03-05-18-44-34-947/source/sourcedir.tar.gz'},\n",
       "   {'Key': 'counties/kmeans-2020-02-26-22-16-08-514/output/model.tar.gz'},\n",
       "   {'Key': 'boston-xgboost-HL/test.csv'},\n",
       "   {'Key': 'sagemaker-pytorch-2020-03-05-18-24-57-619/source/sourcedir.tar.gz'},\n",
       "   {'Key': 'plagiarism-dfs/sagemaker-pytorch-2020-03-05-18-24-57-619/output/model.tar.gz'},\n",
       "   {'Key': 'sagemaker-pytorch-2020-02-26-07-31-32-228/sourcedir.tar.gz'},\n",
       "   {'Key': 'xgboost-2020-01-24-13-49-52-519/test.csv.out'},\n",
       "   {'Key': 'creditcard/linear-learner-2020-02-26-22-58-40-124/output/model.tar.gz'},\n",
       "   {'Key': 'boston-xgboost-tuning-HL/output/xgboost-200131-1540-005-ae955d64/output/model.tar.gz'},\n",
       "   {'Key': 'plagiarism-dfs/sagemaker-pytorch-2020-03-05-18-28-09-312/output/model.tar.gz'},\n",
       "   {'Key': 'sagemaker-record-sets/KMeans-2020-02-26-22-15-02-588/matrix_0.pbr'},\n",
       "   {'Key': 'sagemaker/moon-data/train.csv'},\n",
       "   {'Key': 'plagiarism-dfs/sagemaker-pytorch-2020-03-05-18-13-40-737/debug-output/training_job_end.ts'},\n",
       "   {'Key': 'boston-xgboost-tuning-HL/output/xgboost-200131-1540-001-e056f6b1/output/model.tar.gz'},\n",
       "   {'Key': 'sagemaker-pytorch-2020-02-24-22-42-26-033/sourcedir.tar.gz'},\n",
       "   {'Key': 'sagemaker-pytorch-2020-03-05-18-17-23-989/sourcedir.tar.gz'},\n",
       "   {'Key': 'plagiarism-dfs/sagemaker-pytorch-2020-03-05-18-24-57-619/debug-output/training_job_end.ts'},\n",
       "   {'Key': 'boston-xgboost-tuning-HL/validation.csv'},\n",
       "   {'Key': 'boston-xgboost-tuning-HL/output/xgboost-200131-1540-012-3dc2642d/output/model.tar.gz'},\n",
       "   {'Key': 'boston-xgboost-tuning-HL/train.csv'},\n",
       "   {'Key': 'boston-xgboost-tuning-HL/output/xgboost-200131-1540-010-ddf8ad0f/output/model.tar.gz'},\n",
       "   {'Key': 'boston-xgboost-tuning-HL/output/xgboost-200131-1540-018-0a7c5cbe/output/model.tar.gz'},\n",
       "   {'Key': 'sagemaker-pytorch-2020-02-24-20-37-56-700/source/sourcedir.tar.gz'},\n",
       "   {'Key': 'sagemaker-pytorch-2020-03-04-16-56-21-898/sourcedir.tar.gz'},\n",
       "   {'Key': 'sagemaker-pytorch-2020-03-05-18-05-07-158/sourcedir.tar.gz'},\n",
       "   {'Key': 'sagemaker-pytorch-2020-02-23-09-13-01-595/output/model.tar.gz'},\n",
       "   {'Key': 'sagemaker-scikit-learn-2020-03-05-18-31-08-879/source/sourcedir.tar.gz'},\n",
       "   {'Key': 'sagemaker/sentiment_rnn/word_dict.pkl'},\n",
       "   {'Key': 'sagemaker-pytorch-2020-02-24-20-39-59-870/source/sourcedir.tar.gz'},\n",
       "   {'Key': 'sagemaker-pytorch-2020-03-05-18-28-09-312/source/sourcedir.tar.gz'},\n",
       "   {'Key': 'sagemaker-scikit-learn-2020-03-05-18-44-34-947/output/model.tar.gz'},\n",
       "   {'Key': 'boston-xgboost-tuning-HL/test.csv'},\n",
       "   {'Key': 'sagemaker-record-sets/PCA-2020-02-23-15-07-46-536/.amazon.manifest'},\n",
       "   {'Key': 'counties/pca-2020-02-26-21-28-04-017/output/model.tar.gz'},\n",
       "   {'Key': 'boston-xgboost-tuning-HL/output/xgboost-200131-1540-019-65deffce/output/model.tar.gz'},\n",
       "   {'Key': 'plagiarism-dfs/sagemaker-pytorch-2020-03-05-17-39-09-090/debug-output/training_job_end.ts'},\n",
       "   {'Key': 'boston-xgboost-tuning-HL/output/xgboost-200131-1540-020-a155766c/output/model.tar.gz'},\n",
       "   {'Key': 'boston-xgboost-tuning-HL/output/xgboost-200131-1540-016-949ec4ba/output/model.tar.gz'},\n",
       "   {'Key': 'sagemaker-pytorch-2020-02-22-17-35-30-304/output/model.tar.gz'},\n",
       "   {'Key': 'boston-xgboost-tuning-HL/output/xgboost-200131-1540-013-aba72c52/output/model.tar.gz'},\n",
       "   {'Key': 'sagemaker-pytorch-2020-02-26-06-56-53-733/debug-output/training_job_end.ts'},\n",
       "   {'Key': 'sagemaker-record-sets/KMeans-2020-02-26-22-15-02-588/.amazon.manifest'},\n",
       "   {'Key': 'plagiarism-dfs/sagemaker-pytorch-2020-03-05-18-00-35-289/output/model.tar.gz'},\n",
       "   {'Key': 'sagemaker-pytorch-2020-02-23-09-13-01-595/debug-output/training_job_end.ts'},\n",
       "   {'Key': 'plagiarism-dfs/sagemaker-pytorch-2020-03-04-16-56-23-622/debug-output/training_job_end.ts'},\n",
       "   {'Key': 'sagemaker-pytorch-2020-02-26-06-56-53-733/output/model.tar.gz'},\n",
       "   {'Key': 'counties/pca-2020-02-23-15-07-48-853/output/model.tar.gz'},\n",
       "   {'Key': 'sagemaker-pytorch-2020-02-24-20-28-32-042/debug-output/training_job_end.ts'},\n",
       "   {'Key': 'sagemaker-record-sets/PCA-2020-02-23-15-07-46-536/matrix_0.pbr'},\n",
       "   {'Key': 'counties/kmeans-2020-02-26-22-15-02-862/output/model.tar.gz'},\n",
       "   {'Key': 'boston-xgboost-tuning-HL/output/xgboost-200131-1540-006-91808058/output/model.tar.gz'},\n",
       "   {'Key': 'sagemaker-pytorch-2020-02-24-20-39-59-870/output/model.tar.gz'},\n",
       "   {'Key': 'sagemaker-record-sets/LinearLearner-2020-02-26-22-57-48-058/matrix_0.pbr'},\n",
       "   {'Key': 'sagemaker-pytorch-2020-02-24-22-40-24-954/sourcedir.tar.gz'},\n",
       "   {'Key': 'boston-xgboost-tuning-HL/output/xgboost-200131-1540-007-bf742c67/output/model.tar.gz'},\n",
       "   {'Key': 'plagiarism-dfs/sagemaker-pytorch-2020-03-05-17-49-57-141/debug-output/training_job_end.ts'},\n",
       "   {'Key': 'plagiarism-dfs/sagemaker-pytorch-2020-03-05-18-28-09-312/debug-output/training_job_end.ts'},\n",
       "   {'Key': 'boston-xgboost-tuning-HL/output/xgboost-200131-1540-017-4d3a6a06/output/model.tar.gz'},\n",
       "   {'Key': 'plagiarism-dfs/sagemaker-pytorch-2020-03-04-16-52-38-939/debug-output/training_job_end.ts'},\n",
       "   {'Key': 'sagemaker-pytorch-2020-02-22-17-35-30-304/source/sourcedir.tar.gz'},\n",
       "   {'Key': 'sagemaker-pytorch-2020-02-23-10-22-17-163/sourcedir.tar.gz'}]}]"
      ]
     },
     "execution_count": 22,
     "metadata": {},
     "output_type": "execute_result"
    }
   ],
   "source": [
    "# deleting bucket, uncomment lines below\n",
    "bucket_to_delete = boto3.resource('s3').Bucket(bucket)\n",
    "bucket_to_delete.objects.all().delete()"
   ]
  },
  {
   "cell_type": "markdown",
   "metadata": {},
   "source": [
    "### Deleting all your models and instances\n",
    "\n",
    "When you are _completely_ done with this project and do **not** ever want to revisit this notebook, you can choose to delete all of your SageMaker notebook instances and models by following [these instructions](https://docs.aws.amazon.com/sagemaker/latest/dg/ex1-cleanup.html). Before you delete this notebook instance, I recommend at least downloading a copy and saving it, locally."
   ]
  },
  {
   "cell_type": "markdown",
   "metadata": {},
   "source": [
    "---\n",
    "## Further Directions\n",
    "\n",
    "There are many ways to improve or add on to this project to expand your learning or make this more of a unique project for you. A few ideas are listed below:\n",
    "* Train a classifier to predict the *category* (1-3) of plagiarism and not just plagiarized (1) or not (0).\n",
    "* Utilize a different and larger dataset to see if this model can be extended to other types of plagiarism.\n",
    "* Use language or character-level analysis to find different (and more) similarity features.\n",
    "* Write a complete pipeline function that accepts a source text and submitted text file, and classifies the submitted text as plagiarized or not.\n",
    "* Use API Gateway and a lambda function to deploy your model to a web application.\n",
    "\n",
    "These are all just options for extending your work. If you've completed all the exercises in this notebook, you've completed a real-world application, and can proceed to submit your project. Great job!"
   ]
  },
  {
   "cell_type": "code",
   "execution_count": null,
   "metadata": {},
   "outputs": [],
   "source": []
  }
 ],
 "metadata": {
  "kernelspec": {
   "display_name": "conda_pytorch_p36",
   "language": "python",
   "name": "conda_pytorch_p36"
  },
  "language_info": {
   "codemirror_mode": {
    "name": "ipython",
    "version": 3
   },
   "file_extension": ".py",
   "mimetype": "text/x-python",
   "name": "python",
   "nbconvert_exporter": "python",
   "pygments_lexer": "ipython3",
   "version": "3.6.5"
  }
 },
 "nbformat": 4,
 "nbformat_minor": 2
}
